{
  "nbformat": 4,
  "nbformat_minor": 0,
  "metadata": {
    "colab": {
      "provenance": [],
      "authorship_tag": "ABX9TyM5YRqZPMK/7uFD7ykNMMfp",
      "include_colab_link": true
    },
    "kernelspec": {
      "name": "python3",
      "display_name": "Python 3"
    },
    "language_info": {
      "name": "python"
    }
  },
  "cells": [
    {
      "cell_type": "markdown",
      "metadata": {
        "id": "view-in-github",
        "colab_type": "text"
      },
      "source": [
        "<a href=\"https://colab.research.google.com/github/BharadwajShivanya/AIML/blob/main/AIML_4.ipynb\" target=\"_parent\"><img src=\"https://colab.research.google.com/assets/colab-badge.svg\" alt=\"Open In Colab\"/></a>"
      ]
    },
    {
      "cell_type": "code",
      "execution_count": 3,
      "metadata": {
        "id": "o7-iRs39Ae81"
      },
      "outputs": [],
      "source": [
        "import pandas as pd\n",
        "from sklearn.preprocessing import StandardScaler, OneHotEncoder\n",
        "#This imports the StandardScaler and OneHot Encoder classes from sklearn.preprocessing.\n",
        "#StandardScaler is used for feature scaling (normalizing numerical data),\n",
        "# and OneHotEncoder is used for converting categorical variables into a format suitable for machine learning (one-hot encoding)."
      ]
    },
    {
      "cell_type": "code",
      "source": [
        "#sample date\n",
        "data = {\n",
        "    'color' : ['red', 'blue', 'green', 'red', ],\n",
        "    'size': [10, 15, 20, 12],\n",
        "    'price': [20, 30, 40, 25]\n",
        "}\n",
        "df = pd.DataFrame (data)\n",
        "# data: This creates a dictionary with three keys (color, size, and price),\n",
        "# where the values are lists representine different observations for each feature.\n"
      ],
      "metadata": {
        "id": "pskha0tuA0BO"
      },
      "execution_count": 4,
      "outputs": []
    },
    {
      "cell_type": "code",
      "source": [
        "#Display the original data\n",
        "print('Original Dataframe:')\n",
        "print(df, \"\\n\")"
      ],
      "metadata": {
        "colab": {
          "base_uri": "https://localhost:8080/"
        },
        "id": "GRtYhK1tDTOy",
        "outputId": "9088e376-9c1d-48eb-e0e7-719f6b5a8300"
      },
      "execution_count": 5,
      "outputs": [
        {
          "output_type": "stream",
          "name": "stdout",
          "text": [
            "Original Dataframe:\n",
            "   color  size  price\n",
            "0    red    10     20\n",
            "1   blue    15     30\n",
            "2  green    20     40\n",
            "3    red    12     25 \n",
            "\n"
          ]
        }
      ]
    },
    {
      "cell_type": "code",
      "source": [
        "#Feature scaling\n",
        "scaler = StandardScaler()\n",
        "df[['size' , 'price']] = scaler.fit_transform(df[['size' , 'price']])\n",
        "\n",
        "#scaler = StandardScaler() : this creates an instance of the StandardScaler class\n",
        "#scaler.fit_transform(df[['size' , 'price']]) : The fit_transform() method:\n",
        "#fit():\n"
      ],
      "metadata": {
        "id": "pkZSVt5aBYHt"
      },
      "execution_count": 6,
      "outputs": []
    },
    {
      "cell_type": "code",
      "source": [
        "#display scaler date\n",
        "print(\"dataframe after feature Scaling(StandardScaler):\")\n",
        "print(df, \"\\n\")\n",
        "#Standard deviation and mean. applies it on the formula :"
      ],
      "metadata": {
        "colab": {
          "base_uri": "https://localhost:8080/"
        },
        "id": "s03v0VgxDSNd",
        "outputId": "3e95af5e-b575-413c-b8da-117828191fec"
      },
      "execution_count": 7,
      "outputs": [
        {
          "output_type": "stream",
          "name": "stdout",
          "text": [
            "dataframe after feature Scaling(StandardScaler):\n",
            "   color      size     price\n",
            "0    red -1.128330 -1.183216\n",
            "1   blue  0.199117  0.169031\n",
            "2  green  1.526564  1.521278\n",
            "3    red -0.597351 -0.507093 \n",
            "\n"
          ]
        }
      ]
    },
    {
      "cell_type": "code",
      "source": [
        "# one hot encoding\n",
        "encoder = OneHotEncoder()\n",
        "encoded_data = encoder.fit_transform(df[['color']]).toarray()\n",
        "encoded_df = pd.DataFrame(encoded_data, columns=encoder.get_feature_names_out(['color']))"
      ],
      "metadata": {
        "id": "GF_isFZOIy2N"
      },
      "execution_count": 8,
      "outputs": []
    },
    {
      "cell_type": "code",
      "source": [
        "print(\"One-Hot Encoded Dataframe:\")\n",
        "print(encoded_data ,'/n')\n"
      ],
      "metadata": {
        "colab": {
          "base_uri": "https://localhost:8080/"
        },
        "id": "yD91YD64I8w2",
        "outputId": "46600ab9-6541-49d8-c894-5f6b96fab9df"
      },
      "execution_count": 10,
      "outputs": [
        {
          "output_type": "stream",
          "name": "stdout",
          "text": [
            "One-Hot Encoded Dataframe:\n",
            "[[0. 0. 1.]\n",
            " [1. 0. 0.]\n",
            " [0. 1. 0.]\n",
            " [0. 0. 1.]] /n\n"
          ]
        }
      ]
    },
    {
      "cell_type": "code",
      "source": [
        "print(\"One-Hot Encoded Dataframe:\")\n",
        "print(encoded_df , \"/n\")"
      ],
      "metadata": {
        "colab": {
          "base_uri": "https://localhost:8080/"
        },
        "id": "WOIBrFg3J1KS",
        "outputId": "508cec3a-9e25-4b85-cb9f-c36caf6aec19"
      },
      "execution_count": 15,
      "outputs": [
        {
          "output_type": "stream",
          "name": "stdout",
          "text": [
            "One-Hot Encoded Dataframe:\n",
            "   color_blue  color_green  color_red\n",
            "0         0.0          0.0        1.0\n",
            "1         1.0          0.0        0.0\n",
            "2         0.0          1.0        0.0\n",
            "3         0.0          0.0        1.0 /n\n"
          ]
        }
      ]
    },
    {
      "cell_type": "code",
      "source": [
        "final_df=pd.concat([df.drop('color',axis=1),encoded_df],axis=1)"
      ],
      "metadata": {
        "id": "LFJ74JbOJ6hF"
      },
      "execution_count": 11,
      "outputs": []
    },
    {
      "cell_type": "code",
      "source": [
        "#Display final dataframe\n",
        "print(\"Final Dataframe after Merging One-Hot Encoded Data:\")"
      ],
      "metadata": {
        "colab": {
          "base_uri": "https://localhost:8080/"
        },
        "id": "vBl1yowpMndu",
        "outputId": "bedd3790-6fe4-43db-c727-ea41eb957a5a"
      },
      "execution_count": 12,
      "outputs": [
        {
          "output_type": "stream",
          "name": "stdout",
          "text": [
            "Final Dataframe after Merging One-Hot Encoded Data:\n"
          ]
        }
      ]
    }
  ]
}